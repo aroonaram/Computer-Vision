{
  "nbformat": 4,
  "nbformat_minor": 0,
  "metadata": {
    "colab": {
      "name": "KNNonCifar.ipynb",
      "provenance": [],
      "collapsed_sections": [],
      "authorship_tag": "ABX9TyO/JRD+j1vttQtTnqjot4+/",
      "include_colab_link": true
    },
    "kernelspec": {
      "name": "python3",
      "display_name": "Python 3"
    },
    "language_info": {
      "name": "python"
    }
  },
  "cells": [
    {
      "cell_type": "markdown",
      "metadata": {
        "id": "view-in-github",
        "colab_type": "text"
      },
      "source": [
        "<a href=\"https://colab.research.google.com/github/aroonaram/Computer-Vision/blob/main/KNNonCifar.ipynb\" target=\"_parent\"><img src=\"https://colab.research.google.com/assets/colab-badge.svg\" alt=\"Open In Colab\"/></a>"
      ]
    },
    {
      "cell_type": "code",
      "metadata": {
        "id": "v-QGtfFF7e0E"
      },
      "source": [
        "import numpy as np\n",
        "import os\n",
        "import pickle\n",
        "import matplotlib.pyplot as plt\n",
        "from six.moves import cPickle"
      ],
      "execution_count": 45,
      "outputs": []
    },
    {
      "cell_type": "code",
      "metadata": {
        "colab": {
          "base_uri": "https://localhost:8080/"
        },
        "id": "GnNar__16dxR",
        "outputId": "3618d3a3-ab3c-4a04-afa3-046ef40fd79b"
      },
      "source": [
        "#load the dataset\n",
        "from google.colab import drive\n",
        "import scipy.io as sio\n",
        "\n",
        "google_colab = True\n",
        "path = \"\"\n",
        "\n",
        "if google_colab:\n",
        "  from google.colab import drive, files\n",
        "  drive.mount('/content/drive',force_remount=True)\n",
        "  FOLDERNAME = 'cifar-10-batches-py'\n",
        "  assert FOLDERNAME is not None\n",
        "  import sys\n",
        "  path = '/content/drive/My Drive/cifar-10-batches-py/'"
      ],
      "execution_count": 46,
      "outputs": [
        {
          "output_type": "stream",
          "text": [
            "Mounted at /content/drive\n"
          ],
          "name": "stdout"
        }
      ]
    },
    {
      "cell_type": "code",
      "metadata": {
        "id": "p1kwreLNOKRC"
      },
      "source": [
        "train = []\n",
        "file = os.listdir(path=path)[1]"
      ],
      "execution_count": 47,
      "outputs": []
    },
    {
      "cell_type": "code",
      "metadata": {
        "id": "VElq0kDINXJ1"
      },
      "source": [
        "\n",
        "dict = cPickle.load(open(path+file,'rb'),encoding='bytes')\n",
        "\n",
        "train.append(dict[b'data'])\n",
        " \n"
      ],
      "execution_count": 48,
      "outputs": []
    },
    {
      "cell_type": "code",
      "metadata": {
        "id": "mRg-IaA4QKIx"
      },
      "source": [
        "#train['']"
      ],
      "execution_count": null,
      "outputs": []
    },
    {
      "cell_type": "code",
      "metadata": {
        "id": "ASbG1aaYOgYb"
      },
      "source": [
        "#np.array(train).shape # (1,10000,3071) - (layer,rows,columns)"
      ],
      "execution_count": null,
      "outputs": []
    },
    {
      "cell_type": "code",
      "metadata": {
        "id": "7coLXjWntsKl"
      },
      "source": [
        "def loadData(path):\n",
        "    listOfTestFiles = os.listdir(path=path)\n",
        "    train = []\n",
        "    train_labels = []\n",
        "    test = []\n",
        "    test_labels = []\n",
        "        \n",
        "        \n",
        "    print(\"Training files = \",listOfTestFiles)\n",
        "    #For collecting Training data:\n",
        "    for file in listOfTestFiles:\n",
        "        with open(path+file,'rb') as fo:\n",
        "            print(\"file name is\",file)\n",
        "            if file.startswith('data'):\n",
        "              dict = cPickle.load(fo,encoding='bytes')\n",
        "              fo.close()\n",
        "              train.append(dict[b'data'])\n",
        "              train_labels.append(dict[b'labels'])\n",
        "            elif file.startswith('test'):\n",
        "              dict = cPickle.load(fo,encoding='bytes')\n",
        "              fo.close()\n",
        "              test.append(dict[b'data'])\n",
        "              test_labels.append(dict[b'labels'])\n",
        "            else:\n",
        "              pass\n",
        "           \n",
        "    \n",
        "    dictData = {}\n",
        "    dictData['train_data'] = np.reshape(np.array(train),newshape=(np.array(train).shape[0]*np.array(train).shape[1],np.array(train).shape[2]))\n",
        "    dictData['train_labels'] = np.reshape(np.array(train_labels),newshape=(np.array(train_labels).shape[0]*np.array(train_labels).shape[1]))\n",
        "    dictData['test_data'] = np.reshape(np.array(test),newshape=(np.array(test).shape[0]*np.array(test).shape[1],np.array(test).shape[2]))\n",
        "    dictData['test_labels'] = np.reshape(np.array(test_labels),newshape=(np.array(test_labels).shape[0]*np.array(test_labels).shape[1]))\n",
        "    \n",
        "    return dictData\n",
        " \n",
        "\n",
        "\n",
        "    "
      ],
      "execution_count": 50,
      "outputs": []
    },
    {
      "cell_type": "code",
      "metadata": {
        "colab": {
          "base_uri": "https://localhost:8080/"
        },
        "id": "NGufL7-KxsNz",
        "outputId": "6490d773-b28a-4ca3-869f-a1b8d4b58f65"
      },
      "source": [
        "dataset = loadData(path ='/content/drive/My Drive/cifar-10-batches-py/')"
      ],
      "execution_count": 51,
      "outputs": [
        {
          "output_type": "stream",
          "text": [
            "Training files =  ['test_batch', 'data_batch_3', 'data_batch_2', 'data_batch_5', 'data_batch_1', 'data_batch_4', 'batches.meta', 'readme.html']\n",
            "file name is test_batch\n",
            "file name is data_batch_3\n",
            "file name is data_batch_2\n",
            "file name is data_batch_5\n",
            "file name is data_batch_1\n",
            "file name is data_batch_4\n",
            "file name is batches.meta\n",
            "file name is readme.html\n"
          ],
          "name": "stdout"
        }
      ]
    },
    {
      "cell_type": "code",
      "metadata": {
        "colab": {
          "base_uri": "https://localhost:8080/"
        },
        "id": "x0KYjNQGxqzd",
        "outputId": "9d430391-5bdd-4ff1-f911-f2f632a0e009"
      },
      "source": [
        "dataset['train_data'].shape"
      ],
      "execution_count": 52,
      "outputs": [
        {
          "output_type": "execute_result",
          "data": {
            "text/plain": [
              "(50000, 3072)"
            ]
          },
          "metadata": {
            "tags": []
          },
          "execution_count": 52
        }
      ]
    },
    {
      "cell_type": "code",
      "metadata": {
        "colab": {
          "base_uri": "https://localhost:8080/"
        },
        "id": "d1lAvQB1ak5I",
        "outputId": "7bc317cd-4f08-41b1-e311-e6aaebe13a4c"
      },
      "source": [
        "dataset['test_data'][1]"
      ],
      "execution_count": 53,
      "outputs": [
        {
          "output_type": "execute_result",
          "data": {
            "text/plain": [
              "array([235, 231, 232, ..., 178, 191, 199], dtype=uint8)"
            ]
          },
          "metadata": {
            "tags": []
          },
          "execution_count": 53
        }
      ]
    },
    {
      "cell_type": "code",
      "metadata": {
        "id": "ZAKU7tC77bZL",
        "colab": {
          "base_uri": "https://localhost:8080/",
          "height": 266
        },
        "outputId": "46381da6-aede-4220-b4e2-89694b570fa9"
      },
      "source": [
        "#visualizing train sample\n",
        "\n",
        "def showImg(imgID):\n",
        "\n",
        "  temp = dataset['test_data'][imgID]\n",
        "\n",
        "  # Since every row represents one example to re-map it to image we have to form three 32,32 matrix,\n",
        "  #representing RGB values\n",
        "\n",
        "  R = temp[0:1024].reshape(32,32)\n",
        "  G = np.reshape(temp[1024:2048],newshape=(32,32))\n",
        "  B = np.reshape(temp[2048:],newshape=(32,32))\n",
        "  temp = np.dstack((R,G,B))   #for stacking all these 32,32 matrices.\n",
        "  plt.imshow(temp)\n",
        "  plt.show()\n",
        "\n",
        "\n",
        "showImg(1)\n"
      ],
      "execution_count": 54,
      "outputs": [
        {
          "output_type": "display_data",
          "data": {
            "image/png": "[encoded data removed]",
            "text/plain": [
              "<Figure size 432x288 with 1 Axes>"
            ]
          },
          "metadata": {
            "tags": [],
            "needs_background": "light"
          }
        }
      ]
    },
    {
      "cell_type": "code",
      "metadata": {
        "id": "9BARGTZdxJ54"
      },
      "source": [
        "x_train,y_train, x_test, y_test = dataset['train_data'],dataset['train_labels'],dataset['test_data'],dataset['test_labels']\n"
      ],
      "execution_count": 55,
      "outputs": []
    },
    {
      "cell_type": "code",
      "metadata": {
        "colab": {
          "base_uri": "https://localhost:8080/"
        },
        "id": "2uojuttxWGwX",
        "outputId": "3d4055cd-5657-47e0-e676-28d6307530be"
      },
      "source": [
        "\n",
        "#Splitting the data into train and validation set\n",
        "# train = 49000 samples and validation set = 1000 samples\n",
        "\n",
        "train_x,train_y = x_train[0:49000],y_train[0:49000]\n",
        "val_x, val_y = x_train[49000:],y_train[49000:]\n",
        "\n",
        "print(\"No. of training samples = \",train_x.shape[0])\n",
        "print(\"No. of validation set samples = \",val_x.shape[0])"
      ],
      "execution_count": 56,
      "outputs": [
        {
          "output_type": "stream",
          "text": [
            "No. of training samples =  49000\n",
            "No. of validation set samples =  1000\n"
          ],
          "name": "stdout"
        }
      ]
    },
    {
      "cell_type": "code",
      "metadata": {
        "id": "Q4tuYoA2bott"
      },
      "source": [
        "#Building the actual classifier:\n",
        "#inputs will be of shape N X F where N = number of examples and F = number of features for each image.\n",
        "#labels will be of size N,1. This consists of labels for all N labels from 10 classes\n",
        "\n",
        "class kNearestNeighbour(object):\n",
        "    def __init__(self):\n",
        "        pass\n",
        "    \n",
        "    def train(self,X,Y):\n",
        "        #Knn will remember all of its training data\n",
        "        self.Xtr = X\n",
        "        self.Ytr = Y\n",
        "        \n",
        "    def predict(self,X,k):\n",
        "        #to get no. of samples in train set \n",
        "        test_samples = X.shape[0]\n",
        "        \n",
        "        Ypred = np.zeros(test_samples,dtype=self.Ytr.dtype)\n",
        "        \n",
        "        #Calculating the l1 distance between current samples of test and train set\n",
        "        for i in range(test_samples):\n",
        "            print(\"Test example = \",i,end=\"\\r\")\n",
        "            \n",
        "            #label_count is array of zeros used to store the count for each class while comparing neighbours\n",
        "            label_count = np.zeros(10,dtype=self.Ytr.dtype)    \n",
        "            \n",
        "            dist = np.sum(np.abs(X[i,:] - self.Xtr),axis=1)   #take the absolute sum horizontally across columns\n",
        "            \n",
        "            #idx will contain k smallest indices at the start of the list\n",
        "            #this is called partial sorting for more information look: https://docs.scipy.org/doc/numpy/reference/generated/numpy.argpartition.html\n",
        "            #min_ind will help us to slice through k indices which have minimum distance\n",
        "            idx = np.argpartition(dist,k)\n",
        "            min_ind = idx[:k]\n",
        "            \n",
        "            #This for loop iterates over min_ind and find the label present in train-set_Y for x\n",
        "            #and increase the count at that particular index whenever any label is repeated.\n",
        "            #Max value at any index is returned using np.argmax() and stored at ith index of Ypred i.e. predicted values\n",
        "            for x in min_ind:\n",
        "                label_count[int(self.Ytr[x])] +=1\n",
        "            Ypred[i] = np.argmax(label_count)\n",
        "    \n",
        "    \n",
        "        return Ypred"
      ],
      "execution_count": 57,
      "outputs": []
    },
    {
      "cell_type": "code",
      "metadata": {
        "colab": {
          "base_uri": "https://localhost:8080/"
        },
        "id": "KfaL7I_-cOys",
        "outputId": "9c919ddf-c16f-4e96-bed0-f90e1a9e2dc6"
      },
      "source": [
        "#lets use validation set for prediction and to calculate accuracy\n",
        "#hyper-parameter k = 3, similarity measure = L1\n",
        "\n",
        "knn = kNearestNeighbour()\n",
        "knn.train(train_x,train_y)\n",
        "val_y_pred = knn.predict(val_x,3)\n",
        "\n",
        "#Accuracy for validation set\n",
        "print('Val accuracy = ',np.mean(val_y_pred==val_y))"
      ],
      "execution_count": 58,
      "outputs": [
        {
          "output_type": "stream",
          "text": [
            "Val accuracy =  0.241\n"
          ],
          "name": "stdout"
        }
      ]
    },
    {
      "cell_type": "code",
      "metadata": {
        "colab": {
          "base_uri": "https://localhost:8080/"
        },
        "id": "nEKPxtG0W5LD",
        "outputId": "d9563d6f-6f5a-4eb8-88eb-402dd9a56a89"
      },
      "source": [
        "#hyper-parameter k = 5, similarity measure = L1\n",
        "\n",
        "val_y_pred = knn.predict(val_x,5)\n",
        "\n",
        "#Accuracy for validation set\n",
        "print('Val accuracy = ',np.mean(val_y_pred==val_y))"
      ],
      "execution_count": 59,
      "outputs": [
        {
          "output_type": "stream",
          "text": [
            "Val accuracy =  0.263\n"
          ],
          "name": "stdout"
        }
      ]
    },
    {
      "cell_type": "code",
      "metadata": {
        "colab": {
          "base_uri": "https://localhost:8080/"
        },
        "id": "zyqsGtlRVjSI",
        "outputId": "b73e9149-6641-4805-cde6-8a463c4d6456"
      },
      "source": [
        "#hyper-parameter k = 7, similarity measure = L1\n",
        "\n",
        "val_y_pred = knn.predict(val_x,7)\n",
        "\n",
        "#Accuracy for validation set\n",
        "print('Val accuracy = ',np.mean(val_y_pred==val_y))"
      ],
      "execution_count": 60,
      "outputs": [
        {
          "output_type": "stream",
          "text": [
            "Val accuracy =  0.27\n"
          ],
          "name": "stdout"
        }
      ]
    },
    {
      "cell_type": "code",
      "metadata": {
        "colab": {
          "base_uri": "https://localhost:8080/"
        },
        "id": "-modFLlwDqyk",
        "outputId": "7e646392-fda7-4c62-fe31-4456b15cabee"
      },
      "source": [
        "#hyper-parameter k = 9, similarity measure = L1\n",
        "\n",
        "val_y_pred = knn.predict(val_x,9)\n",
        "\n",
        "#Accuracy for validation set\n",
        "print('Val accuracy = ',np.mean(val_y_pred==val_y))"
      ],
      "execution_count": 61,
      "outputs": [
        {
          "output_type": "stream",
          "text": [
            "Val accuracy =  0.257\n"
          ],
          "name": "stdout"
        }
      ]
    },
    {
      "cell_type": "code",
      "metadata": {
        "colab": {
          "base_uri": "https://localhost:8080/"
        },
        "id": "rERez09ADtPk",
        "outputId": "3e606349-c1e1-40ea-bca0-d762ca60b746"
      },
      "source": [
        "#hyper-parameter k = 7, similarity measure = L1\n",
        "\n",
        "test_y_pred = knn.predict(x_test,7)\n",
        "\n",
        "#Accuracy for validation set\n",
        "print('Test set accuracy = ',np.mean(test_y_pred==y_test))"
      ],
      "execution_count": 62,
      "outputs": [
        {
          "output_type": "stream",
          "text": [
            "Test set accuracy =  0.2788\n"
          ],
          "name": "stdout"
        }
      ]
    },
    {
      "cell_type": "code",
      "metadata": {
        "id": "VljNHgpluKUB"
      },
      "source": [
        "# initialize the values of k for our k-Nearest Neighbor classifier along with the\n",
        "# list of accuracies for each value of k\n",
        "kVals = range(1, 30, 2)\n",
        "accuracies = []"
      ],
      "execution_count": 63,
      "outputs": []
    },
    {
      "cell_type": "code",
      "metadata": {
        "id": "wb4X0MzcurkL"
      },
      "source": [
        "from sklearn.neighbors import KNeighborsClassifier\n",
        "from sklearn.metrics import classification_report\n",
        "from sklearn import datasets\n",
        "from skimage import exposure"
      ],
      "execution_count": 64,
      "outputs": []
    },
    {
      "cell_type": "code",
      "metadata": {
        "colab": {
          "base_uri": "https://localhost:8080/"
        },
        "id": "Pv1kDcJ9uOCW",
        "outputId": "33d55e2b-2317-4e02-e5a7-fe35b46f6bd8"
      },
      "source": [
        "# loop over various values of `k` for the k-Nearest Neighbor classifier\n",
        "for k in range(1, 30, 2):\n",
        "\t# train the k-Nearest Neighbor classifier with the current value of `k`\n",
        "\tmodel = KNeighborsClassifier(n_neighbors=k)\n",
        "\tmodel.fit(train_x, train_y)\n",
        "\n",
        "\t# evaluate the model and update the accuracies list\n",
        "\tscore = model.score(val_x, val_y)\n",
        "\tprint(\"k=%d, accuracy=%.2f%%\" % (k, score * 100))\n",
        "\taccuracies.append(score)\n",
        "\n",
        "# find the value of k that has the largest accuracy\n",
        "i = int(np.argmax(accuracies))\n",
        "print(\"k=%d achieved highest accuracy of %.2f%% on validation data\" % (kVals[i],\n",
        "\taccuracies[i] * 100))"
      ],
      "execution_count": null,
      "outputs": [
        {
          "output_type": "stream",
          "text": [
            "k=1, accuracy=33.30%\n",
            "k=3, accuracy=31.30%\n",
            "k=5, accuracy=31.80%\n",
            "k=7, accuracy=32.60%\n",
            "k=9, accuracy=30.40%\n",
            "k=11, accuracy=30.50%\n",
            "k=13, accuracy=30.00%\n",
            "k=15, accuracy=30.90%\n"
          ],
          "name": "stdout"
        }
      ]
    }
  ]
}