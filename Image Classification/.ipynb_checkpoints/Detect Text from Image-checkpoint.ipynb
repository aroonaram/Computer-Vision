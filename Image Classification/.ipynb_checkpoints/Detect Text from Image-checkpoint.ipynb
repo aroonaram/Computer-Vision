{
 "cells": [
  {
   "cell_type": "code",
   "execution_count": 9,
   "id": "32830247",
   "metadata": {},
   "outputs": [
    {
     "ename": "SyntaxError",
     "evalue": "invalid syntax (<ipython-input-9-13af6b123c99>, line 1)",
     "output_type": "error",
     "traceback": [
      "\u001b[0;36m  File \u001b[0;32m\"<ipython-input-9-13af6b123c99>\"\u001b[0;36m, line \u001b[0;32m1\u001b[0m\n\u001b[0;31m    pip install google-cloud-vision\u001b[0m\n\u001b[0m        ^\u001b[0m\n\u001b[0;31mSyntaxError\u001b[0m\u001b[0;31m:\u001b[0m invalid syntax\n"
     ]
    }
   ],
   "source": [
    "pip install google-cloud-vision\n",
    "\n"
   ]
  },
  {
   "cell_type": "code",
   "execution_count": 10,
   "id": "52a3ca46",
   "metadata": {},
   "outputs": [
    {
     "name": "stdout",
     "output_type": "stream",
     "text": [
      "Collecting google-cloud-storage\n",
      "  Downloading google_cloud_storage-1.41.1-py2.py3-none-any.whl (105 kB)\n",
      "\u001b[K     |████████████████████████████████| 105 kB 4.1 MB/s eta 0:00:01\n",
      "\u001b[?25hCollecting google-resumable-media<3.0dev,>=1.3.0\n",
      "  Downloading google_resumable_media-1.3.3-py2.py3-none-any.whl (75 kB)\n",
      "\u001b[K     |████████████████████████████████| 75 kB 12.7 MB/s eta 0:00:01\n",
      "\u001b[?25hRequirement already satisfied: google-auth<3.0dev,>=1.24.0 in /Users/aroona/opt/anaconda3/lib/python3.8/site-packages (from google-cloud-storage) (1.34.0)\n",
      "Requirement already satisfied: requests<3.0.0dev,>=2.18.0 in /Users/aroona/opt/anaconda3/lib/python3.8/site-packages (from google-cloud-storage) (2.25.1)\n",
      "Collecting google-cloud-core<3.0dev,>=1.6.0\n",
      "  Downloading google_cloud_core-1.7.2-py2.py3-none-any.whl (28 kB)\n",
      "Requirement already satisfied: pyasn1-modules>=0.2.1 in /Users/aroona/opt/anaconda3/lib/python3.8/site-packages (from google-auth<3.0dev,>=1.24.0->google-cloud-storage) (0.2.8)\n",
      "Requirement already satisfied: rsa<5,>=3.1.4 in /Users/aroona/opt/anaconda3/lib/python3.8/site-packages (from google-auth<3.0dev,>=1.24.0->google-cloud-storage) (4.7.2)\n",
      "Requirement already satisfied: six>=1.9.0 in /Users/aroona/opt/anaconda3/lib/python3.8/site-packages (from google-auth<3.0dev,>=1.24.0->google-cloud-storage) (1.15.0)\n",
      "Requirement already satisfied: cachetools<5.0,>=2.0.0 in /Users/aroona/opt/anaconda3/lib/python3.8/site-packages (from google-auth<3.0dev,>=1.24.0->google-cloud-storage) (4.2.2)\n",
      "Requirement already satisfied: setuptools>=40.3.0 in /Users/aroona/opt/anaconda3/lib/python3.8/site-packages (from google-auth<3.0dev,>=1.24.0->google-cloud-storage) (52.0.0.post20210125)\n",
      "Requirement already satisfied: google-api-core<2.0.0dev,>=1.21.0 in /Users/aroona/opt/anaconda3/lib/python3.8/site-packages (from google-cloud-core<3.0dev,>=1.6.0->google-cloud-storage) (1.31.1)\n",
      "Requirement already satisfied: googleapis-common-protos<2.0dev,>=1.6.0 in /Users/aroona/opt/anaconda3/lib/python3.8/site-packages (from google-api-core<2.0.0dev,>=1.21.0->google-cloud-core<3.0dev,>=1.6.0->google-cloud-storage) (1.53.0)\n",
      "Requirement already satisfied: packaging>=14.3 in /Users/aroona/opt/anaconda3/lib/python3.8/site-packages (from google-api-core<2.0.0dev,>=1.21.0->google-cloud-core<3.0dev,>=1.6.0->google-cloud-storage) (20.9)\n",
      "Requirement already satisfied: pytz in /Users/aroona/opt/anaconda3/lib/python3.8/site-packages (from google-api-core<2.0.0dev,>=1.21.0->google-cloud-core<3.0dev,>=1.6.0->google-cloud-storage) (2021.1)\n",
      "Requirement already satisfied: protobuf>=3.12.0 in /Users/aroona/opt/anaconda3/lib/python3.8/site-packages (from google-api-core<2.0.0dev,>=1.21.0->google-cloud-core<3.0dev,>=1.6.0->google-cloud-storage) (3.17.3)\n",
      "Collecting google-crc32c<2.0dev,>=1.0\n",
      "  Downloading google_crc32c-1.1.2-cp38-cp38-macosx_10_14_x86_64.whl (27 kB)\n",
      "Requirement already satisfied: cffi>=1.0.0 in /Users/aroona/opt/anaconda3/lib/python3.8/site-packages (from google-crc32c<2.0dev,>=1.0->google-resumable-media<3.0dev,>=1.3.0->google-cloud-storage) (1.14.5)\n",
      "Requirement already satisfied: pycparser in /Users/aroona/opt/anaconda3/lib/python3.8/site-packages (from cffi>=1.0.0->google-crc32c<2.0dev,>=1.0->google-resumable-media<3.0dev,>=1.3.0->google-cloud-storage) (2.20)\n",
      "Requirement already satisfied: pyparsing>=2.0.2 in /Users/aroona/opt/anaconda3/lib/python3.8/site-packages (from packaging>=14.3->google-api-core<2.0.0dev,>=1.21.0->google-cloud-core<3.0dev,>=1.6.0->google-cloud-storage) (2.4.7)\n",
      "Requirement already satisfied: pyasn1<0.5.0,>=0.4.6 in /Users/aroona/opt/anaconda3/lib/python3.8/site-packages (from pyasn1-modules>=0.2.1->google-auth<3.0dev,>=1.24.0->google-cloud-storage) (0.4.8)\n",
      "Requirement already satisfied: urllib3<1.27,>=1.21.1 in /Users/aroona/opt/anaconda3/lib/python3.8/site-packages (from requests<3.0.0dev,>=2.18.0->google-cloud-storage) (1.26.4)\n",
      "Requirement already satisfied: chardet<5,>=3.0.2 in /Users/aroona/opt/anaconda3/lib/python3.8/site-packages (from requests<3.0.0dev,>=2.18.0->google-cloud-storage) (4.0.0)\n",
      "Requirement already satisfied: idna<3,>=2.5 in /Users/aroona/opt/anaconda3/lib/python3.8/site-packages (from requests<3.0.0dev,>=2.18.0->google-cloud-storage) (2.10)\n",
      "Requirement already satisfied: certifi>=2017.4.17 in /Users/aroona/opt/anaconda3/lib/python3.8/site-packages (from requests<3.0.0dev,>=2.18.0->google-cloud-storage) (2020.12.5)\n",
      "Installing collected packages: google-crc32c, google-resumable-media, google-cloud-core, google-cloud-storage\n",
      "Successfully installed google-cloud-core-1.7.2 google-cloud-storage-1.41.1 google-crc32c-1.1.2 google-resumable-media-1.3.3\n",
      "Note: you may need to restart the kernel to use updated packages.\n"
     ]
    }
   ],
   "source": [
    "pip install --upgrade google-cloud-storage\n"
   ]
  },
  {
   "cell_type": "code",
   "execution_count": 22,
   "id": "5c313fcc",
   "metadata": {},
   "outputs": [],
   "source": [
    "import os, io\n",
    "import re\n",
    "from google.cloud import vision_v1\n",
    "from google.cloud import storage\n",
    "from google.protobuf import json_format\n",
    "from google.cloud.vision_v1 import types\n",
    "import pandas as pd"
   ]
  },
  {
   "cell_type": "code",
   "execution_count": null,
   "id": "76f924e1",
   "metadata": {},
   "outputs": [],
   "source": [
    "#gs://computervisions/SU19_Gift_MSDS 462_ComputerVisionSyllabus.pdf"
   ]
  },
  {
   "cell_type": "code",
   "execution_count": 18,
   "id": "ddb18246",
   "metadata": {},
   "outputs": [],
   "source": [
    "os.environ['GOOGLE_APPLICATION_CREDENTIALS'] = 'secure-skyline-311019-ebb438cc7fb4.json'\n",
    "client = vision.ImageAnnotatorClient()"
   ]
  },
  {
   "cell_type": "code",
   "execution_count": 20,
   "id": "38932555",
   "metadata": {},
   "outputs": [],
   "source": [
    "image = types.Image()\n",
    "image.source.image_uri = 'https://edu.pngfacts.com/uploads/1/1/3/2/11320972/grade-10-english_orig.png'"
   ]
  },
  {
   "cell_type": "code",
   "execution_count": 23,
   "id": "3f16c9d3",
   "metadata": {},
   "outputs": [],
   "source": [
    "# annotate Image Response\n",
    "response = client.text_detection(image=image)  # returns TextAnnotation\n",
    "df = pd.DataFrame(columns=['locale', 'description'])"
   ]
  },
  {
   "cell_type": "code",
   "execution_count": 27,
   "id": "fd77ad50",
   "metadata": {},
   "outputs": [
    {
     "name": "stdout",
     "output_type": "stream",
     "text": [
      "For each question, choose the best answer by writing A, B, C or D, in the space provided on the\n",
      "ANSWER SHEET.\n",
      "QUESTION 1\n",
      "They\n",
      "the wedding as they both wanted to pursue their careers.\n",
      "А.\n",
      "broke off\n",
      "В.\n",
      "broke up\n",
      "с.\n",
      "called off\n",
      "D.\n",
      "called out\n",
      "QUESTION 2\n",
      "The nine year old appeared with a\n",
      "of an old man on stage.\n",
      "А.\n",
      "make up for B.\n",
      "make out\n",
      "С.\n",
      "make do\n",
      "D.\n",
      "make up\n",
      "QUESTION 3\n",
      "Most schools in Port Moresby buy their\n",
      "from Theodist Bookshop.\n",
      "А.\n",
      "stationary\n",
      "В.\n",
      "stationery\n",
      "с.\n",
      "stationeries\n",
      "D.\n",
      "stationaries\n",
      "QUESTION 4\n",
      "Everyone\n",
      "advised to keep their village clean all the time.\n",
      "А.\n",
      "is\n",
      "В.\n",
      "с.\n",
      "are being\n",
      "D.\n",
      "have been\n",
      "are\n",
      "\n"
     ]
    }
   ],
   "source": [
    "texts = response.text_annotations\n",
    "for text in texts:\n",
    "    df = df.append(\n",
    "        dict(\n",
    "            locale=text.locale,\n",
    "            description=text.description\n",
    "        ),\n",
    "        ignore_index=True\n",
    "    )\n",
    "\n",
    "print(df['description'][0])"
   ]
  }
 ],
 "metadata": {
  "kernelspec": {
   "display_name": "Python 3",
   "language": "python",
   "name": "python3"
  },
  "language_info": {
   "codemirror_mode": {
    "name": "ipython",
    "version": 3
   },
   "file_extension": ".py",
   "mimetype": "text/x-python",
   "name": "python",
   "nbconvert_exporter": "python",
   "pygments_lexer": "ipython3",
   "version": "3.8.8"
  }
 },
 "nbformat": 4,
 "nbformat_minor": 5
}
