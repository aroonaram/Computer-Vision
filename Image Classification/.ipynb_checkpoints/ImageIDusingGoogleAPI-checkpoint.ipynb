{
 "cells": [
  {
   "cell_type": "code",
   "execution_count": 1,
   "id": "d76d4ef0",
   "metadata": {},
   "outputs": [
    {
     "name": "stdout",
     "output_type": "stream",
     "text": [
      "Collecting google-cloud-vision\n",
      "  Downloading google_cloud_vision-2.4.2-py2.py3-none-any.whl (369 kB)\n",
      "\u001b[K     |████████████████████████████████| 369 kB 4.4 MB/s eta 0:00:01\n",
      "\u001b[?25hRequirement already satisfied: packaging>=14.3 in /Users/aroona/opt/anaconda3/lib/python3.8/site-packages (from google-cloud-vision) (20.9)\n",
      "Collecting proto-plus>=1.15.0\n",
      "  Downloading proto_plus-1.19.0-py3-none-any.whl (42 kB)\n",
      "\u001b[K     |████████████████████████████████| 42 kB 11.5 MB/s  eta 0:00:01\n",
      "\u001b[?25hCollecting google-api-core[grpc]<3.0.0dev,>=1.26.0\n",
      "  Downloading google_api_core-1.31.1-py2.py3-none-any.whl (93 kB)\n",
      "\u001b[K     |████████████████████████████████| 93 kB 9.3 MB/s  eta 0:00:01\n",
      "\u001b[?25hRequirement already satisfied: requests<3.0.0dev,>=2.18.0 in /Users/aroona/opt/anaconda3/lib/python3.8/site-packages (from google-api-core[grpc]<3.0.0dev,>=1.26.0->google-cloud-vision) (2.25.1)\n",
      "Requirement already satisfied: six>=1.13.0 in /Users/aroona/opt/anaconda3/lib/python3.8/site-packages (from google-api-core[grpc]<3.0.0dev,>=1.26.0->google-cloud-vision) (1.15.0)\n",
      "Requirement already satisfied: protobuf>=3.12.0 in /Users/aroona/opt/anaconda3/lib/python3.8/site-packages (from google-api-core[grpc]<3.0.0dev,>=1.26.0->google-cloud-vision) (3.17.3)\n",
      "Collecting googleapis-common-protos<2.0dev,>=1.6.0\n",
      "  Downloading googleapis_common_protos-1.53.0-py2.py3-none-any.whl (198 kB)\n",
      "\u001b[K     |████████████████████████████████| 198 kB 29.5 MB/s eta 0:00:01\n",
      "\u001b[?25hCollecting google-auth<2.0dev,>=1.25.0\n",
      "  Using cached google_auth-1.34.0-py2.py3-none-any.whl (152 kB)\n",
      "Requirement already satisfied: pytz in /Users/aroona/opt/anaconda3/lib/python3.8/site-packages (from google-api-core[grpc]<3.0.0dev,>=1.26.0->google-cloud-vision) (2021.1)\n",
      "Requirement already satisfied: setuptools>=40.3.0 in /Users/aroona/opt/anaconda3/lib/python3.8/site-packages (from google-api-core[grpc]<3.0.0dev,>=1.26.0->google-cloud-vision) (52.0.0.post20210125)\n",
      "Collecting grpcio<2.0dev,>=1.29.0\n",
      "  Downloading grpcio-1.39.0-cp38-cp38-macosx_10_10_x86_64.whl (3.9 MB)\n",
      "\u001b[K     |████████████████████████████████| 3.9 MB 19.5 MB/s eta 0:00:01\n",
      "\u001b[?25hCollecting cachetools<5.0,>=2.0.0\n",
      "  Using cached cachetools-4.2.2-py3-none-any.whl (11 kB)\n",
      "Collecting pyasn1-modules>=0.2.1\n",
      "  Using cached pyasn1_modules-0.2.8-py2.py3-none-any.whl (155 kB)\n",
      "Collecting rsa<5,>=3.1.4\n",
      "  Using cached rsa-4.7.2-py3-none-any.whl (34 kB)\n",
      "Requirement already satisfied: pyparsing>=2.0.2 in /Users/aroona/opt/anaconda3/lib/python3.8/site-packages (from packaging>=14.3->google-cloud-vision) (2.4.7)\n",
      "Collecting pyasn1<0.5.0,>=0.4.6\n",
      "  Using cached pyasn1-0.4.8-py2.py3-none-any.whl (77 kB)\n",
      "Requirement already satisfied: certifi>=2017.4.17 in /Users/aroona/opt/anaconda3/lib/python3.8/site-packages (from requests<3.0.0dev,>=2.18.0->google-api-core[grpc]<3.0.0dev,>=1.26.0->google-cloud-vision) (2020.12.5)\n",
      "Requirement already satisfied: urllib3<1.27,>=1.21.1 in /Users/aroona/opt/anaconda3/lib/python3.8/site-packages (from requests<3.0.0dev,>=2.18.0->google-api-core[grpc]<3.0.0dev,>=1.26.0->google-cloud-vision) (1.26.4)\n",
      "Requirement already satisfied: chardet<5,>=3.0.2 in /Users/aroona/opt/anaconda3/lib/python3.8/site-packages (from requests<3.0.0dev,>=2.18.0->google-api-core[grpc]<3.0.0dev,>=1.26.0->google-cloud-vision) (4.0.0)\n",
      "Requirement already satisfied: idna<3,>=2.5 in /Users/aroona/opt/anaconda3/lib/python3.8/site-packages (from requests<3.0.0dev,>=2.18.0->google-api-core[grpc]<3.0.0dev,>=1.26.0->google-cloud-vision) (2.10)\n",
      "Installing collected packages: pyasn1, rsa, pyasn1-modules, cachetools, googleapis-common-protos, google-auth, grpcio, google-api-core, proto-plus, google-cloud-vision\n",
      "Successfully installed cachetools-4.2.2 google-api-core-1.31.1 google-auth-1.34.0 google-cloud-vision-2.4.2 googleapis-common-protos-1.53.0 grpcio-1.39.0 proto-plus-1.19.0 pyasn1-0.4.8 pyasn1-modules-0.2.8 rsa-4.7.2\n",
      "Note: you may need to restart the kernel to use updated packages.\n"
     ]
    }
   ],
   "source": [
    "pip install google-cloud-vision"
   ]
  },
  {
   "cell_type": "code",
   "execution_count": 8,
   "id": "91cc2a62",
   "metadata": {},
   "outputs": [],
   "source": [
    "import os\n",
    "\n",
    "from google.cloud import vision_v1\n",
    "from google.cloud.vision_v1 import types"
   ]
  },
  {
   "cell_type": "code",
   "execution_count": null,
   "id": "241a9c14",
   "metadata": {
    "collapsed": true
   },
   "outputs": [],
   "source": []
  }
 ],
 "metadata": {
  "kernelspec": {
   "display_name": "Python 3",
   "language": "python",
   "name": "python3"
  },
  "language_info": {
   "codemirror_mode": {
    "name": "ipython",
    "version": 3
   },
   "file_extension": ".py",
   "mimetype": "text/x-python",
   "name": "python",
   "nbconvert_exporter": "python",
   "pygments_lexer": "ipython3",
   "version": "3.8.8"
  }
 },
 "nbformat": 4,
 "nbformat_minor": 5
}
