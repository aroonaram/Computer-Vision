{
 "cells": [
  {
   "cell_type": "code",
   "execution_count": 1,
   "id": "017d792a",
   "metadata": {},
   "outputs": [
    {
     "name": "stdout",
     "output_type": "stream",
     "text": [
      "Collecting google-cloud-vision\n",
      "  Downloading google_cloud_vision-2.4.2-py2.py3-none-any.whl (369 kB)\n",
      "\u001b[K     |████████████████████████████████| 369 kB 4.4 MB/s eta 0:00:01\n",
      "\u001b[?25hRequirement already satisfied: packaging>=14.3 in /Users/aroona/opt/anaconda3/lib/python3.8/site-packages (from google-cloud-vision) (20.9)\n",
      "Collecting proto-plus>=1.15.0\n",
      "  Downloading proto_plus-1.19.0-py3-none-any.whl (42 kB)\n",
      "\u001b[K     |████████████████████████████████| 42 kB 11.5 MB/s  eta 0:00:01\n",
      "\u001b[?25hCollecting google-api-core[grpc]<3.0.0dev,>=1.26.0\n",
      "  Downloading google_api_core-1.31.1-py2.py3-none-any.whl (93 kB)\n",
      "\u001b[K     |████████████████████████████████| 93 kB 9.3 MB/s  eta 0:00:01\n",
      "\u001b[?25hRequirement already satisfied: requests<3.0.0dev,>=2.18.0 in /Users/aroona/opt/anaconda3/lib/python3.8/site-packages (from google-api-core[grpc]<3.0.0dev,>=1.26.0->google-cloud-vision) (2.25.1)\n",
      "Requirement already satisfied: six>=1.13.0 in /Users/aroona/opt/anaconda3/lib/python3.8/site-packages (from google-api-core[grpc]<3.0.0dev,>=1.26.0->google-cloud-vision) (1.15.0)\n",
      "Requirement already satisfied: protobuf>=3.12.0 in /Users/aroona/opt/anaconda3/lib/python3.8/site-packages (from google-api-core[grpc]<3.0.0dev,>=1.26.0->google-cloud-vision) (3.17.3)\n",
      "Collecting googleapis-common-protos<2.0dev,>=1.6.0\n",
      "  Downloading googleapis_common_protos-1.53.0-py2.py3-none-any.whl (198 kB)\n",
      "\u001b[K     |████████████████████████████████| 198 kB 29.5 MB/s eta 0:00:01\n",
      "\u001b[?25hCollecting google-auth<2.0dev,>=1.25.0\n",
      "  Using cached google_auth-1.34.0-py2.py3-none-any.whl (152 kB)\n",
      "Requirement already satisfied: pytz in /Users/aroona/opt/anaconda3/lib/python3.8/site-packages (from google-api-core[grpc]<3.0.0dev,>=1.26.0->google-cloud-vision) (2021.1)\n",
      "Requirement already satisfied: setuptools>=40.3.0 in /Users/aroona/opt/anaconda3/lib/python3.8/site-packages (from google-api-core[grpc]<3.0.0dev,>=1.26.0->google-cloud-vision) (52.0.0.post20210125)\n",
      "Collecting grpcio<2.0dev,>=1.29.0\n",
      "  Downloading grpcio-1.39.0-cp38-cp38-macosx_10_10_x86_64.whl (3.9 MB)\n",
      "\u001b[K     |████████████████████████████████| 3.9 MB 19.5 MB/s eta 0:00:01\n",
      "\u001b[?25hCollecting cachetools<5.0,>=2.0.0\n",
      "  Using cached cachetools-4.2.2-py3-none-any.whl (11 kB)\n",
      "Collecting pyasn1-modules>=0.2.1\n",
      "  Using cached pyasn1_modules-0.2.8-py2.py3-none-any.whl (155 kB)\n",
      "Collecting rsa<5,>=3.1.4\n",
      "  Using cached rsa-4.7.2-py3-none-any.whl (34 kB)\n",
      "Requirement already satisfied: pyparsing>=2.0.2 in /Users/aroona/opt/anaconda3/lib/python3.8/site-packages (from packaging>=14.3->google-cloud-vision) (2.4.7)\n",
      "Collecting pyasn1<0.5.0,>=0.4.6\n",
      "  Using cached pyasn1-0.4.8-py2.py3-none-any.whl (77 kB)\n",
      "Requirement already satisfied: certifi>=2017.4.17 in /Users/aroona/opt/anaconda3/lib/python3.8/site-packages (from requests<3.0.0dev,>=2.18.0->google-api-core[grpc]<3.0.0dev,>=1.26.0->google-cloud-vision) (2020.12.5)\n",
      "Requirement already satisfied: urllib3<1.27,>=1.21.1 in /Users/aroona/opt/anaconda3/lib/python3.8/site-packages (from requests<3.0.0dev,>=2.18.0->google-api-core[grpc]<3.0.0dev,>=1.26.0->google-cloud-vision) (1.26.4)\n",
      "Requirement already satisfied: chardet<5,>=3.0.2 in /Users/aroona/opt/anaconda3/lib/python3.8/site-packages (from requests<3.0.0dev,>=2.18.0->google-api-core[grpc]<3.0.0dev,>=1.26.0->google-cloud-vision) (4.0.0)\n",
      "Requirement already satisfied: idna<3,>=2.5 in /Users/aroona/opt/anaconda3/lib/python3.8/site-packages (from requests<3.0.0dev,>=2.18.0->google-api-core[grpc]<3.0.0dev,>=1.26.0->google-cloud-vision) (2.10)\n",
      "Installing collected packages: pyasn1, rsa, pyasn1-modules, cachetools, googleapis-common-protos, google-auth, grpcio, google-api-core, proto-plus, google-cloud-vision\n",
      "Successfully installed cachetools-4.2.2 google-api-core-1.31.1 google-auth-1.34.0 google-cloud-vision-2.4.2 googleapis-common-protos-1.53.0 grpcio-1.39.0 proto-plus-1.19.0 pyasn1-0.4.8 pyasn1-modules-0.2.8 rsa-4.7.2\n",
      "Note: you may need to restart the kernel to use updated packages.\n"
     ]
    }
   ],
   "source": [
    "pip install google-cloud-vision"
   ]
  },
  {
   "cell_type": "code",
   "execution_count": 8,
   "id": "ba4a3ef3",
   "metadata": {},
   "outputs": [],
   "source": [
    "import os\n",
    "\n",
    "from google.cloud import vision_v1\n",
    "from google.cloud.vision_v1 import types"
   ]
  },
  {
   "cell_type": "code",
   "execution_count": 18,
   "id": "bf9451c6",
   "metadata": {},
   "outputs": [],
   "source": [
    "os.environ['GOOGLE_APPLICATION_CREDENTIALS'] = 'secure-skyline-311019-ebb438cc7fb4.json'"
   ]
  },
  {
   "cell_type": "code",
   "execution_count": 19,
   "id": "1c858ac1",
   "metadata": {},
   "outputs": [],
   "source": [
    "client = vision.ImageAnnotatorClient()"
   ]
  },
  {
   "cell_type": "code",
   "execution_count": 23,
   "id": "81893d5b",
   "metadata": {},
   "outputs": [],
   "source": [
    "image = types.Image()\n",
    "image.source.image_uri = 'https://i.ytimg.com/vi/UQQHSbeIaB0/maxresdefault.jpg'"
   ]
  },
  {
   "cell_type": "code",
   "execution_count": 24,
   "id": "7f06314f",
   "metadata": {},
   "outputs": [
    {
     "name": "stdout",
     "output_type": "stream",
     "text": [
      "{'label': 'Facial expression', 'score': 0.9328115582466125}\n",
      "{'label': 'Plant', 'score': 0.8734012842178345}\n",
      "{'label': 'Fruit', 'score': 0.8684611916542053}\n",
      "{'label': 'Yellow', 'score': 0.8661112785339355}\n",
      "{'label': 'Food', 'score': 0.8542059659957886}\n",
      "{'label': 'Gesture', 'score': 0.852604866027832}\n",
      "{'label': 'Font', 'score': 0.8431738615036011}\n",
      "{'label': 'Happy', 'score': 0.83344966173172}\n",
      "{'label': 'Beard', 'score': 0.8213534951210022}\n",
      "{'label': 'Natural foods', 'score': 0.8117483258247375}\n"
     ]
    }
   ],
   "source": [
    "#### LABEL DETECTION ######\n",
    "\n",
    "response_label = client.label_detection(image=image)\n",
    "\n",
    "for label in response_label.label_annotations:\n",
    "    print({'label': label.description, 'score': label.score})"
   ]
  },
  {
   "cell_type": "code",
   "execution_count": 25,
   "id": "9068fc2d",
   "metadata": {},
   "outputs": [
    {
     "name": "stdout",
     "output_type": "stream",
     "text": [
      "{'confidence': 0.960577130317688, 'joy': <Likelihood.VERY_UNLIKELY: 1>, 'sorrow': <Likelihood.VERY_UNLIKELY: 1>, 'surprise': <Likelihood.VERY_UNLIKELY: 1>, 'anger': <Likelihood.VERY_UNLIKELY: 1>}\n"
     ]
    }
   ],
   "source": [
    "#### FACE DETECTION ######\n",
    "\n",
    "response_face = client.face_detection(image=image)\n",
    "\n",
    "face_data = []\n",
    "\n",
    "for face_detection in response_face.face_annotations:\n",
    "    d = {\n",
    "        'confidence': face_detection.detection_confidence,\n",
    "        'joy': face_detection.joy_likelihood,\n",
    "        'sorrow': face_detection.sorrow_likelihood,\n",
    "        'surprise': face_detection.surprise_likelihood,\n",
    "        'anger': face_detection.anger_likelihood\n",
    "    }\n",
    "    print(d)"
   ]
  },
  {
   "cell_type": "code",
   "execution_count": 26,
   "id": "06e744c8",
   "metadata": {},
   "outputs": [
    {
     "name": "stdout",
     "output_type": "stream",
     "text": [
      "{'color': red: 74.0\n",
      "green: 119.0\n",
      "blue: 175.0\n",
      ", 'score': 0.11490794271230698, 'pixel_fraction': 0.049841269850730896}\n",
      "{'color': red: 63.0\n",
      "green: 62.0\n",
      "blue: 62.0\n",
      ", 'score': 0.09174512326717377, 'pixel_fraction': 0.31039682030677795}\n",
      "{'color': red: 247.0\n",
      "green: 245.0\n",
      "blue: 22.0\n",
      ", 'score': 0.08850228041410446, 'pixel_fraction': 0.02190476283431053}\n"
     ]
    }
   ],
   "source": [
    "#### IMAGE PROPERTIES ######\n",
    "\n",
    "response_image = client.image_properties(image=image)\n",
    "\n",
    "image_data = []\n",
    "\n",
    "for c in response_image.image_properties_annotation.dominant_colors.colors[:3]:\n",
    "    d = {\n",
    "        'color': c.color,\n",
    "        'score': c.score,\n",
    "        'pixel_fraction': c.pixel_fraction\n",
    "    }\n",
    "    print(d)"
   ]
  },
  {
   "cell_type": "code",
   "execution_count": 27,
   "id": "38d4e574",
   "metadata": {},
   "outputs": [
    {
     "name": "stdout",
     "output_type": "stream",
     "text": [
      "{'text': 'Vector Auto Regression\\nft.\\nUCLA\\n'}\n",
      "{'text': 'Vector'}\n",
      "{'text': 'Auto'}\n",
      "{'text': 'Regression'}\n",
      "{'text': 'ft.'}\n",
      "{'text': 'UCLA'}\n"
     ]
    }
   ],
   "source": [
    "#### TEXT DETECTION ######\n",
    "\n",
    "response_text = client.text_detection(image=image)\n",
    "\n",
    "for r in response_text.text_annotations:\n",
    "    d = {\n",
    "        'text': r.description\n",
    "    }\n",
    "    print(d)"
   ]
  }
 ],
 "metadata": {
  "kernelspec": {
   "display_name": "Python 3",
   "language": "python",
   "name": "python3"
  },
  "language_info": {
   "codemirror_mode": {
    "name": "ipython",
    "version": 3
   },
   "file_extension": ".py",
   "mimetype": "text/x-python",
   "name": "python",
   "nbconvert_exporter": "python",
   "pygments_lexer": "ipython3",
   "version": "3.8.8"
  }
 },
 "nbformat": 4,
 "nbformat_minor": 5
}
